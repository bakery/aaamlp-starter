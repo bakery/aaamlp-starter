{
 "cells": [
  {
   "cell_type": "code",
   "execution_count": 4,
   "id": "9fd568de",
   "metadata": {},
   "outputs": [],
   "source": [
    "import pandas as pd\n",
    "from sklearn import model_selection"
   ]
  },
  {
   "cell_type": "code",
   "execution_count": 2,
   "id": "f1d2d28f",
   "metadata": {},
   "outputs": [],
   "source": [
    "df = pd.read_csv(\"../input/mnist_train.csv\")"
   ]
  },
  {
   "cell_type": "code",
   "execution_count": 12,
   "id": "bf7a2dd7",
   "metadata": {},
   "outputs": [],
   "source": [
    "df[\"kfold\"] = -1\n",
    "df = df.sample(frac=1).reset_index(drop=True)\n",
    "kf = model_selection.KFold(n_splits=5)\n",
    "\n",
    "for fold, (trn_, val_) in enumerate(kf.split(X=df)):\n",
    "    df.loc[val_, 'kfold'] = fold\n",
    "    \n",
    "df.to_csv(\"../input/train_folds.csv\", index=False)"
   ]
  },
  {
   "cell_type": "code",
   "execution_count": 13,
   "id": "c84a0158",
   "metadata": {},
   "outputs": [],
   "source": [
    "df_with_folds = pd.read_csv(\"../input/train_folds.csv\")"
   ]
  },
  {
   "cell_type": "code",
   "execution_count": null,
   "id": "1e0118b3",
   "metadata": {},
   "outputs": [],
   "source": []
  }
 ],
 "metadata": {
  "kernelspec": {
   "display_name": "Python 3 (ipykernel)",
   "language": "python",
   "name": "python3"
  },
  "language_info": {
   "codemirror_mode": {
    "name": "ipython",
    "version": 3
   },
   "file_extension": ".py",
   "mimetype": "text/x-python",
   "name": "python",
   "nbconvert_exporter": "python",
   "pygments_lexer": "ipython3",
   "version": "3.9.13"
  }
 },
 "nbformat": 4,
 "nbformat_minor": 5
}
